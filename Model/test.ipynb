{
 "cells": [
  {
   "cell_type": "code",
   "execution_count": 4,
   "metadata": {},
   "outputs": [],
   "source": [
    "import pickle\n",
    "import numpy as np\n",
    "\n",
    "pt = pickle.load(open('pt.pkl','rb'))\n",
    "books = pickle.load(open('books.pkl','rb'))\n",
    "similarity_scores = pickle.load(open('similarity_scores.pkl','rb'))\n",
    "\n",
    "def recommend(bookId):\n",
    "    # index fetch\n",
    "    index = np.where(pt.index==bookId)[0][0]\n",
    "    similar_items = sorted(list(enumerate(similarity_scores[index])),key=lambda x:x[1],reverse=True)[1:6]\n",
    "\n",
    "    data = []\n",
    "    for i in similar_items:\n",
    "        temp_df = books[books['_id'] == pt.index[i[0]]]\n",
    "        data.extend(list(temp_df.drop_duplicates('_id')['_id'].values))\n",
    "\n",
    "    return data"
   ]
  },
  {
   "cell_type": "code",
   "execution_count": 5,
   "metadata": {},
   "outputs": [
    {
     "data": {
      "text/plain": [
       "['6598d23314a6793ff4b15f1f',\n",
       " '659ba0bf58b90949f01bd14b',\n",
       " '659ba11258b90949f01bd5eb',\n",
       " '659ba07258b90949f01bcce3',\n",
       " '659ba0a958b90949f01bd013']"
      ]
     },
     "execution_count": 5,
     "metadata": {},
     "output_type": "execute_result"
    }
   ],
   "source": [
    "recommend('6590372140bc0343d00594e3')"
   ]
  }
 ],
 "metadata": {
  "kernelspec": {
   "display_name": "Python 3",
   "language": "python",
   "name": "python3"
  },
  "language_info": {
   "codemirror_mode": {
    "name": "ipython",
    "version": 3
   },
   "file_extension": ".py",
   "mimetype": "text/x-python",
   "name": "python",
   "nbconvert_exporter": "python",
   "pygments_lexer": "ipython3",
   "version": "3.10.6"
  }
 },
 "nbformat": 4,
 "nbformat_minor": 2
}
